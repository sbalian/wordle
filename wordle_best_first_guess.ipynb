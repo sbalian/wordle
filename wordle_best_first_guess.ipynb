{
 "cells": [
  {
   "cell_type": "markdown",
   "id": "e1c87b41",
   "metadata": {},
   "source": [
    "# Wordle best first guess\n",
    "\n",
    "Find the 5-character word that has the least average Hamming\n",
    "distance from all other 5-character words."
   ]
  },
  {
   "cell_type": "code",
   "execution_count": 1,
   "id": "4b45c86c",
   "metadata": {},
   "outputs": [],
   "source": [
    "import statistics"
   ]
  },
  {
   "cell_type": "markdown",
   "id": "c758a8bc",
   "metadata": {},
   "source": [
    "Read the word list (en-GB-ise Hunspell from http://wordlist.aspell.net/dicts/)"
   ]
  },
  {
   "cell_type": "code",
   "execution_count": 2,
   "id": "fff35995",
   "metadata": {},
   "outputs": [],
   "source": [
    "with open(\"words.txt\") as f:\n",
    "    words = f.read().strip().splitlines()"
   ]
  },
  {
   "cell_type": "markdown",
   "id": "05e5a5dd",
   "metadata": {},
   "source": [
    "Exclude words ending with `'s`"
   ]
  },
  {
   "cell_type": "code",
   "execution_count": 3,
   "id": "49a5de6f",
   "metadata": {},
   "outputs": [],
   "source": [
    "words = [word for word in words if not word.endswith(\"'s\")]"
   ]
  },
  {
   "cell_type": "markdown",
   "id": "ab19be1f",
   "metadata": {},
   "source": [
    "Include only words with 5 characters"
   ]
  },
  {
   "cell_type": "code",
   "execution_count": 4,
   "id": "21274014",
   "metadata": {
    "scrolled": true
   },
   "outputs": [],
   "source": [
    "words = [word for word in words if len(word) == 5]"
   ]
  },
  {
   "cell_type": "markdown",
   "id": "9679a7a7",
   "metadata": {},
   "source": [
    "Exclude words that contain an upper character"
   ]
  },
  {
   "cell_type": "code",
   "execution_count": 5,
   "id": "952a9aa8",
   "metadata": {},
   "outputs": [],
   "source": [
    "words = [word for word in words if not any(map(lambda x: x.isupper(), list(word)))]"
   ]
  },
  {
   "cell_type": "code",
   "execution_count": 6,
   "id": "bb13c2c4",
   "metadata": {},
   "outputs": [
    {
     "data": {
      "text/plain": [
       "5167"
      ]
     },
     "execution_count": 6,
     "metadata": {},
     "output_type": "execute_result"
    }
   ],
   "source": [
    "len(words)"
   ]
  },
  {
   "cell_type": "code",
   "execution_count": 7,
   "id": "bbd5f14e",
   "metadata": {},
   "outputs": [],
   "source": [
    "def hamming(a, b):\n",
    "    \"\"\"Calculate the Hamming distance between strings a and b\"\"\"\n",
    "    n = len(a)\n",
    "    if n != len(b):\n",
    "        raise ValueError(\"a and b must be of equal length\")\n",
    "    distance = 0\n",
    "    for i in range(n):\n",
    "        if a[i] != b[i]:\n",
    "            distance += 1\n",
    "    return distance\n"
   ]
  },
  {
   "cell_type": "markdown",
   "id": "49cd0992",
   "metadata": {},
   "source": [
    "Calculate average Hamming distances (takes about 30 seconds)"
   ]
  },
  {
   "cell_type": "code",
   "execution_count": 8,
   "id": "2e69e3e2",
   "metadata": {},
   "outputs": [],
   "source": [
    "average_distances = []\n",
    "for word in words:\n",
    "    distances = []\n",
    "    for other_word in words:\n",
    "        if word == other_word:\n",
    "            continue\n",
    "        else:\n",
    "            distances.append(hamming(word, other_word))\n",
    "    average_distances.append((statistics.mean(distances), word))"
   ]
  },
  {
   "cell_type": "markdown",
   "id": "1f771d35",
   "metadata": {},
   "source": [
    "Sort by average edit distance"
   ]
  },
  {
   "cell_type": "code",
   "execution_count": 9,
   "id": "4aa6eef0",
   "metadata": {},
   "outputs": [
    {
     "data": {
      "text/plain": [
       "[(4.0991095625241964, 'sores'),\n",
       " (4.102206736353078, 'sales'),\n",
       " (4.116337591947348, 'soles'),\n",
       " (4.118660472319009, 'sates'),\n",
       " (4.1339527680991095, 'sames')]"
      ]
     },
     "execution_count": 9,
     "metadata": {},
     "output_type": "execute_result"
    }
   ],
   "source": [
    "sorted(average_distances, key=lambda x: x[0])[:5]"
   ]
  }
 ],
 "metadata": {
  "kernelspec": {
   "display_name": "Python 3 (ipykernel)",
   "language": "python",
   "name": "python3"
  },
  "language_info": {
   "codemirror_mode": {
    "name": "ipython",
    "version": 3
   },
   "file_extension": ".py",
   "mimetype": "text/x-python",
   "name": "python",
   "nbconvert_exporter": "python",
   "pygments_lexer": "ipython3",
   "version": "3.8.10"
  }
 },
 "nbformat": 4,
 "nbformat_minor": 5
}
